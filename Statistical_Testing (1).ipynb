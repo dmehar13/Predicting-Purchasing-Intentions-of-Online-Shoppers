{
  "nbformat": 4,
  "nbformat_minor": 0,
  "metadata": {
    "colab": {
      "name": "Statistical_Testing.ipynb",
      "provenance": [],
      "collapsed_sections": [
        "djxspPgBR4Zc",
        "9bOQqH_fnxty",
        "MyO-ed3eoSnD",
        "WNU2jDF6plj7",
        "uyyOTcg0rfXb",
        "4ZdD-yp5sZaD",
        "yLrgu8GHsmzT"
      ]
    },
    "kernelspec": {
      "name": "python3",
      "display_name": "Python 3"
    }
  },
  "cells": [
    {
      "cell_type": "code",
      "metadata": {
        "id": "nkiF7rYu1ncZ",
        "colab_type": "code",
        "outputId": "62b3d86e-89f3-4cdb-e31f-46e2e0ad5772",
        "colab": {
          "base_uri": "https://localhost:8080/",
          "height": 17
        }
      },
      "source": [
        "#Import Libraries\n",
        "import pandas as pd\n",
        "import numpy as np\n",
        "#from kmodes.kmodes import KModes\n",
        "import plotly.graph_objects as go\n",
        "from sklearn.manifold import TSNE\n",
        "\n",
        "%matplotlib inline\n",
        "from matplotlib import pyplot\n",
        "import matplotlib.pyplot as plt\n",
        "from mpl_toolkits.mplot3d import Axes3D\n",
        "import seaborn as sns\n",
        "\n",
        "\n",
        "from sklearn.externals import joblib\n",
        "\n",
        "import plotly as py\n",
        "import plotly.graph_objs as go\n",
        "import ipywidgets as widgets\n",
        "import numpy as np\n",
        "from scipy import special\n",
        "\n",
        "# Rule based classifier\n",
        "from sklearn.dummy import DummyClassifier\n",
        "\n",
        "# Modelling\n",
        "from sklearn.model_selection import train_test_split, cross_val_score\n",
        "\n",
        "# Decistion tree\n",
        "from sklearn.tree import DecisionTreeClassifier\n",
        "\n",
        "# One of the Ensemle model -- Random Forset which is ensemple of decision trees\n",
        "from sklearn.ensemble import RandomForestClassifier, BaggingClassifier, AdaBoostClassifier, VotingClassifier\n",
        "\n",
        "# import logistic regression, SVC  for ensembling\n",
        "from sklearn.linear_model import LogisticRegression\n",
        "from sklearn.svm import SVC, LinearSVC\n",
        "\n",
        "#Import Gaussian Naive Bayes model\n",
        "from sklearn.naive_bayes import GaussianNB\n",
        "\n",
        "# Distance based\n",
        "from sklearn.neighbors import KNeighborsClassifier\n",
        "\n",
        "# packages for metric for evalaution of the models\n",
        "from sklearn import metrics\n",
        "from sklearn.metrics import classification_report , accuracy_score, confusion_matrix\n",
        "\n",
        "py.offline.init_notebook_mode(connected=True)   # for offline mode use\n",
        "import plotly.offline as po\n",
        "\n",
        "# import stats for statistics related tasks\n",
        "from scipy import stats\n",
        "from scipy.stats import f_oneway\n",
        "from scipy.stats import ttest_ind\n",
        "\n",
        "pd.set_option('display.max_columns', None)  # or 1000\n",
        "pd.set_option('display.max_rows', None)  # or 1000\n",
        "pd.set_option('display.max_colwidth', -1)  # or 199\n",
        "\n",
        "#Import Data...by joblist\n",
        "#import joblib\n",
        "#joblib.load(r'C:\\Users\\Advitiay\\Downloads\\PreProcess\\df_pre')"
      ],
      "execution_count": 0,
      "outputs": [
        {
          "output_type": "display_data",
          "data": {
            "text/html": [
              "        <script type=\"text/javascript\">\n",
              "        window.PlotlyConfig = {MathJaxConfig: 'local'};\n",
              "        if (window.MathJax) {MathJax.Hub.Config({SVG: {font: \"STIX-Web\"}});}\n",
              "        if (typeof require !== 'undefined') {\n",
              "        require.undef(\"plotly\");\n",
              "        requirejs.config({\n",
              "            paths: {\n",
              "                'plotly': ['https://cdn.plot.ly/plotly-latest.min']\n",
              "            }\n",
              "        });\n",
              "        require(['plotly'], function(Plotly) {\n",
              "            window._Plotly = Plotly;\n",
              "        });\n",
              "        }\n",
              "        </script>\n",
              "        "
            ]
          },
          "metadata": {
            "tags": []
          }
        }
      ]
    },
    {
      "cell_type": "markdown",
      "metadata": {
        "id": "oxBN2C8buXuD",
        "colab_type": "text"
      },
      "source": [
        "# Importing Data from Google Drive"
      ]
    },
    {
      "cell_type": "code",
      "metadata": {
        "id": "1xg_Adhh1yQM",
        "colab_type": "code",
        "colab": {}
      },
      "source": [
        "!pip install -U -q PyDrive\n",
        "from pydrive.auth import GoogleAuth\n",
        "from pydrive.drive import GoogleDrive\n",
        "from google.colab import auth\n",
        "from oauth2client.client import GoogleCredentials\n",
        "\n",
        "# Authenticate and create the PyDrive client.\n",
        "auth.authenticate_user()\n",
        "gauth = GoogleAuth()\n",
        "gauth.credentials = GoogleCredentials.get_application_default()\n",
        "drive = GoogleDrive(gauth)"
      ],
      "execution_count": 0,
      "outputs": []
    },
    {
      "cell_type": "code",
      "metadata": {
        "id": "vvFtNOJ_1zv8",
        "colab_type": "code",
        "outputId": "c27267bb-1f04-4314-a89c-ea54f5c3d199",
        "colab": {
          "base_uri": "https://localhost:8080/",
          "height": 34
        }
      },
      "source": [
        "link='https://drive.google.com/open?id=1xLlCca7P6D4U7NeDMyislZz_1ZsnTowf'  #Copy paste your files's link from g-drive\n",
        "fluff, id = link.split('=')\n",
        "print(id) # Verify that you have everything after '='"
      ],
      "execution_count": 0,
      "outputs": [
        {
          "output_type": "stream",
          "text": [
            "1xLlCca7P6D4U7NeDMyislZz_1ZsnTowf\n"
          ],
          "name": "stdout"
        }
      ]
    },
    {
      "cell_type": "code",
      "metadata": {
        "id": "lJpVgm9f83ZC",
        "colab_type": "code",
        "colab": {}
      },
      "source": [
        "import pandas as pd\n",
        "downloaded = drive.CreateFile({'id':id}) \n",
        "downloaded.GetContentFile('cross_val_models.csv')  \n",
        "df = pd.read_csv('cross_val_models.csv')\n",
        "# Dataset is now stored in a Pandas Datafram"
      ],
      "execution_count": 0,
      "outputs": []
    },
    {
      "cell_type": "code",
      "metadata": {
        "colab_type": "code",
        "outputId": "ff2c5beb-9c74-4040-ae52-963a1ae8f31a",
        "id": "VvByHXkSG8CU",
        "colab": {
          "base_uri": "https://localhost:8080/",
          "height": 1000
        }
      },
      "source": [
        "df"
      ],
      "execution_count": 0,
      "outputs": [
        {
          "output_type": "execute_result",
          "data": {
            "text/html": [
              "<div>\n",
              "<style scoped>\n",
              "    .dataframe tbody tr th:only-of-type {\n",
              "        vertical-align: middle;\n",
              "    }\n",
              "\n",
              "    .dataframe tbody tr th {\n",
              "        vertical-align: top;\n",
              "    }\n",
              "\n",
              "    .dataframe thead th {\n",
              "        text-align: right;\n",
              "    }\n",
              "</style>\n",
              "<table border=\"1\" class=\"dataframe\">\n",
              "  <thead>\n",
              "    <tr style=\"text-align: right;\">\n",
              "      <th></th>\n",
              "      <th>Unnamed: 0</th>\n",
              "      <th>Model_Name</th>\n",
              "      <th>Fold_Index</th>\n",
              "      <th>Accuracy</th>\n",
              "    </tr>\n",
              "  </thead>\n",
              "  <tbody>\n",
              "    <tr>\n",
              "      <th>0</th>\n",
              "      <td>0</td>\n",
              "      <td>LogisticRegression</td>\n",
              "      <td>0</td>\n",
              "      <td>0.902205</td>\n",
              "    </tr>\n",
              "    <tr>\n",
              "      <th>1</th>\n",
              "      <td>1</td>\n",
              "      <td>LogisticRegression</td>\n",
              "      <td>1</td>\n",
              "      <td>0.803452</td>\n",
              "    </tr>\n",
              "    <tr>\n",
              "      <th>2</th>\n",
              "      <td>2</td>\n",
              "      <td>LogisticRegression</td>\n",
              "      <td>2</td>\n",
              "      <td>0.958253</td>\n",
              "    </tr>\n",
              "    <tr>\n",
              "      <th>3</th>\n",
              "      <td>3</td>\n",
              "      <td>LogisticRegression</td>\n",
              "      <td>3</td>\n",
              "      <td>0.943378</td>\n",
              "    </tr>\n",
              "    <tr>\n",
              "      <th>4</th>\n",
              "      <td>4</td>\n",
              "      <td>LogisticRegression</td>\n",
              "      <td>4</td>\n",
              "      <td>0.946257</td>\n",
              "    </tr>\n",
              "    <tr>\n",
              "      <th>5</th>\n",
              "      <td>5</td>\n",
              "      <td>LogisticRegression</td>\n",
              "      <td>5</td>\n",
              "      <td>0.924184</td>\n",
              "    </tr>\n",
              "    <tr>\n",
              "      <th>6</th>\n",
              "      <td>6</td>\n",
              "      <td>LogisticRegression</td>\n",
              "      <td>6</td>\n",
              "      <td>0.950096</td>\n",
              "    </tr>\n",
              "    <tr>\n",
              "      <th>7</th>\n",
              "      <td>7</td>\n",
              "      <td>LogisticRegression</td>\n",
              "      <td>7</td>\n",
              "      <td>0.946737</td>\n",
              "    </tr>\n",
              "    <tr>\n",
              "      <th>8</th>\n",
              "      <td>8</td>\n",
              "      <td>LogisticRegression</td>\n",
              "      <td>8</td>\n",
              "      <td>0.952975</td>\n",
              "    </tr>\n",
              "    <tr>\n",
              "      <th>9</th>\n",
              "      <td>9</td>\n",
              "      <td>LogisticRegression</td>\n",
              "      <td>9</td>\n",
              "      <td>0.946737</td>\n",
              "    </tr>\n",
              "    <tr>\n",
              "      <th>10</th>\n",
              "      <td>10</td>\n",
              "      <td>LinearSVC</td>\n",
              "      <td>0</td>\n",
              "      <td>0.901726</td>\n",
              "    </tr>\n",
              "    <tr>\n",
              "      <th>11</th>\n",
              "      <td>11</td>\n",
              "      <td>LinearSVC</td>\n",
              "      <td>1</td>\n",
              "      <td>0.812560</td>\n",
              "    </tr>\n",
              "    <tr>\n",
              "      <th>12</th>\n",
              "      <td>12</td>\n",
              "      <td>LinearSVC</td>\n",
              "      <td>2</td>\n",
              "      <td>0.928983</td>\n",
              "    </tr>\n",
              "    <tr>\n",
              "      <th>13</th>\n",
              "      <td>13</td>\n",
              "      <td>LinearSVC</td>\n",
              "      <td>3</td>\n",
              "      <td>0.922265</td>\n",
              "    </tr>\n",
              "    <tr>\n",
              "      <th>14</th>\n",
              "      <td>14</td>\n",
              "      <td>LinearSVC</td>\n",
              "      <td>4</td>\n",
              "      <td>0.944338</td>\n",
              "    </tr>\n",
              "    <tr>\n",
              "      <th>15</th>\n",
              "      <td>15</td>\n",
              "      <td>LinearSVC</td>\n",
              "      <td>5</td>\n",
              "      <td>0.905950</td>\n",
              "    </tr>\n",
              "    <tr>\n",
              "      <th>16</th>\n",
              "      <td>16</td>\n",
              "      <td>LinearSVC</td>\n",
              "      <td>6</td>\n",
              "      <td>0.937620</td>\n",
              "    </tr>\n",
              "    <tr>\n",
              "      <th>17</th>\n",
              "      <td>17</td>\n",
              "      <td>LinearSVC</td>\n",
              "      <td>7</td>\n",
              "      <td>0.926104</td>\n",
              "    </tr>\n",
              "    <tr>\n",
              "      <th>18</th>\n",
              "      <td>18</td>\n",
              "      <td>LinearSVC</td>\n",
              "      <td>8</td>\n",
              "      <td>0.938100</td>\n",
              "    </tr>\n",
              "    <tr>\n",
              "      <th>19</th>\n",
              "      <td>19</td>\n",
              "      <td>LinearSVC</td>\n",
              "      <td>9</td>\n",
              "      <td>0.927543</td>\n",
              "    </tr>\n",
              "    <tr>\n",
              "      <th>20</th>\n",
              "      <td>20</td>\n",
              "      <td>DecisionTreeClassifier</td>\n",
              "      <td>0</td>\n",
              "      <td>0.677852</td>\n",
              "    </tr>\n",
              "    <tr>\n",
              "      <th>21</th>\n",
              "      <td>21</td>\n",
              "      <td>DecisionTreeClassifier</td>\n",
              "      <td>1</td>\n",
              "      <td>0.709492</td>\n",
              "    </tr>\n",
              "    <tr>\n",
              "      <th>22</th>\n",
              "      <td>22</td>\n",
              "      <td>DecisionTreeClassifier</td>\n",
              "      <td>2</td>\n",
              "      <td>0.958733</td>\n",
              "    </tr>\n",
              "    <tr>\n",
              "      <th>23</th>\n",
              "      <td>23</td>\n",
              "      <td>DecisionTreeClassifier</td>\n",
              "      <td>3</td>\n",
              "      <td>0.949616</td>\n",
              "    </tr>\n",
              "    <tr>\n",
              "      <th>24</th>\n",
              "      <td>24</td>\n",
              "      <td>DecisionTreeClassifier</td>\n",
              "      <td>4</td>\n",
              "      <td>0.949136</td>\n",
              "    </tr>\n",
              "    <tr>\n",
              "      <th>25</th>\n",
              "      <td>25</td>\n",
              "      <td>DecisionTreeClassifier</td>\n",
              "      <td>5</td>\n",
              "      <td>0.926583</td>\n",
              "    </tr>\n",
              "    <tr>\n",
              "      <th>26</th>\n",
              "      <td>26</td>\n",
              "      <td>DecisionTreeClassifier</td>\n",
              "      <td>6</td>\n",
              "      <td>0.940979</td>\n",
              "    </tr>\n",
              "    <tr>\n",
              "      <th>27</th>\n",
              "      <td>27</td>\n",
              "      <td>DecisionTreeClassifier</td>\n",
              "      <td>7</td>\n",
              "      <td>0.936180</td>\n",
              "    </tr>\n",
              "    <tr>\n",
              "      <th>28</th>\n",
              "      <td>28</td>\n",
              "      <td>DecisionTreeClassifier</td>\n",
              "      <td>8</td>\n",
              "      <td>0.944818</td>\n",
              "    </tr>\n",
              "    <tr>\n",
              "      <th>29</th>\n",
              "      <td>29</td>\n",
              "      <td>DecisionTreeClassifier</td>\n",
              "      <td>9</td>\n",
              "      <td>0.940019</td>\n",
              "    </tr>\n",
              "    <tr>\n",
              "      <th>30</th>\n",
              "      <td>30</td>\n",
              "      <td>KNeighborsClassifier</td>\n",
              "      <td>0</td>\n",
              "      <td>0.652924</td>\n",
              "    </tr>\n",
              "    <tr>\n",
              "      <th>31</th>\n",
              "      <td>31</td>\n",
              "      <td>KNeighborsClassifier</td>\n",
              "      <td>1</td>\n",
              "      <td>0.689837</td>\n",
              "    </tr>\n",
              "    <tr>\n",
              "      <th>32</th>\n",
              "      <td>32</td>\n",
              "      <td>KNeighborsClassifier</td>\n",
              "      <td>2</td>\n",
              "      <td>0.984165</td>\n",
              "    </tr>\n",
              "    <tr>\n",
              "      <th>33</th>\n",
              "      <td>33</td>\n",
              "      <td>KNeighborsClassifier</td>\n",
              "      <td>3</td>\n",
              "      <td>0.975048</td>\n",
              "    </tr>\n",
              "    <tr>\n",
              "      <th>34</th>\n",
              "      <td>34</td>\n",
              "      <td>KNeighborsClassifier</td>\n",
              "      <td>4</td>\n",
              "      <td>0.978407</td>\n",
              "    </tr>\n",
              "    <tr>\n",
              "      <th>35</th>\n",
              "      <td>35</td>\n",
              "      <td>KNeighborsClassifier</td>\n",
              "      <td>5</td>\n",
              "      <td>0.961612</td>\n",
              "    </tr>\n",
              "    <tr>\n",
              "      <th>36</th>\n",
              "      <td>36</td>\n",
              "      <td>KNeighborsClassifier</td>\n",
              "      <td>6</td>\n",
              "      <td>0.961132</td>\n",
              "    </tr>\n",
              "    <tr>\n",
              "      <th>37</th>\n",
              "      <td>37</td>\n",
              "      <td>KNeighborsClassifier</td>\n",
              "      <td>7</td>\n",
              "      <td>0.968330</td>\n",
              "    </tr>\n",
              "    <tr>\n",
              "      <th>38</th>\n",
              "      <td>38</td>\n",
              "      <td>KNeighborsClassifier</td>\n",
              "      <td>8</td>\n",
              "      <td>0.974568</td>\n",
              "    </tr>\n",
              "    <tr>\n",
              "      <th>39</th>\n",
              "      <td>39</td>\n",
              "      <td>KNeighborsClassifier</td>\n",
              "      <td>9</td>\n",
              "      <td>0.962572</td>\n",
              "    </tr>\n",
              "    <tr>\n",
              "      <th>40</th>\n",
              "      <td>40</td>\n",
              "      <td>DummyClassifier</td>\n",
              "      <td>0</td>\n",
              "      <td>0.492330</td>\n",
              "    </tr>\n",
              "    <tr>\n",
              "      <th>41</th>\n",
              "      <td>41</td>\n",
              "      <td>DummyClassifier</td>\n",
              "      <td>1</td>\n",
              "      <td>0.524928</td>\n",
              "    </tr>\n",
              "    <tr>\n",
              "      <th>42</th>\n",
              "      <td>42</td>\n",
              "      <td>DummyClassifier</td>\n",
              "      <td>2</td>\n",
              "      <td>0.507198</td>\n",
              "    </tr>\n",
              "    <tr>\n",
              "      <th>43</th>\n",
              "      <td>43</td>\n",
              "      <td>DummyClassifier</td>\n",
              "      <td>3</td>\n",
              "      <td>0.494242</td>\n",
              "    </tr>\n",
              "    <tr>\n",
              "      <th>44</th>\n",
              "      <td>44</td>\n",
              "      <td>DummyClassifier</td>\n",
              "      <td>4</td>\n",
              "      <td>0.507678</td>\n",
              "    </tr>\n",
              "    <tr>\n",
              "      <th>45</th>\n",
              "      <td>45</td>\n",
              "      <td>DummyClassifier</td>\n",
              "      <td>5</td>\n",
              "      <td>0.503359</td>\n",
              "    </tr>\n",
              "    <tr>\n",
              "      <th>46</th>\n",
              "      <td>46</td>\n",
              "      <td>DummyClassifier</td>\n",
              "      <td>6</td>\n",
              "      <td>0.507198</td>\n",
              "    </tr>\n",
              "    <tr>\n",
              "      <th>47</th>\n",
              "      <td>47</td>\n",
              "      <td>DummyClassifier</td>\n",
              "      <td>7</td>\n",
              "      <td>0.509117</td>\n",
              "    </tr>\n",
              "    <tr>\n",
              "      <th>48</th>\n",
              "      <td>48</td>\n",
              "      <td>DummyClassifier</td>\n",
              "      <td>8</td>\n",
              "      <td>0.498560</td>\n",
              "    </tr>\n",
              "    <tr>\n",
              "      <th>49</th>\n",
              "      <td>49</td>\n",
              "      <td>DummyClassifier</td>\n",
              "      <td>9</td>\n",
              "      <td>0.508637</td>\n",
              "    </tr>\n",
              "    <tr>\n",
              "      <th>50</th>\n",
              "      <td>50</td>\n",
              "      <td>GaussianNB</td>\n",
              "      <td>0</td>\n",
              "      <td>0.568073</td>\n",
              "    </tr>\n",
              "    <tr>\n",
              "      <th>51</th>\n",
              "      <td>51</td>\n",
              "      <td>GaussianNB</td>\n",
              "      <td>1</td>\n",
              "      <td>0.610738</td>\n",
              "    </tr>\n",
              "    <tr>\n",
              "      <th>52</th>\n",
              "      <td>52</td>\n",
              "      <td>GaussianNB</td>\n",
              "      <td>2</td>\n",
              "      <td>0.833013</td>\n",
              "    </tr>\n",
              "    <tr>\n",
              "      <th>53</th>\n",
              "      <td>53</td>\n",
              "      <td>GaussianNB</td>\n",
              "      <td>3</td>\n",
              "      <td>0.829655</td>\n",
              "    </tr>\n",
              "    <tr>\n",
              "      <th>54</th>\n",
              "      <td>54</td>\n",
              "      <td>GaussianNB</td>\n",
              "      <td>4</td>\n",
              "      <td>0.814779</td>\n",
              "    </tr>\n",
              "    <tr>\n",
              "      <th>55</th>\n",
              "      <td>55</td>\n",
              "      <td>GaussianNB</td>\n",
              "      <td>5</td>\n",
              "      <td>0.759597</td>\n",
              "    </tr>\n",
              "    <tr>\n",
              "      <th>56</th>\n",
              "      <td>56</td>\n",
              "      <td>GaussianNB</td>\n",
              "      <td>6</td>\n",
              "      <td>0.752879</td>\n",
              "    </tr>\n",
              "    <tr>\n",
              "      <th>57</th>\n",
              "      <td>57</td>\n",
              "      <td>GaussianNB</td>\n",
              "      <td>7</td>\n",
              "      <td>0.764875</td>\n",
              "    </tr>\n",
              "    <tr>\n",
              "      <th>58</th>\n",
              "      <td>58</td>\n",
              "      <td>GaussianNB</td>\n",
              "      <td>8</td>\n",
              "      <td>0.762476</td>\n",
              "    </tr>\n",
              "    <tr>\n",
              "      <th>59</th>\n",
              "      <td>59</td>\n",
              "      <td>GaussianNB</td>\n",
              "      <td>9</td>\n",
              "      <td>0.766315</td>\n",
              "    </tr>\n",
              "  </tbody>\n",
              "</table>\n",
              "</div>"
            ],
            "text/plain": [
              "    Unnamed: 0              Model_Name  Fold_Index  Accuracy\n",
              "0   0           LogisticRegression      0           0.902205\n",
              "1   1           LogisticRegression      1           0.803452\n",
              "2   2           LogisticRegression      2           0.958253\n",
              "3   3           LogisticRegression      3           0.943378\n",
              "4   4           LogisticRegression      4           0.946257\n",
              "5   5           LogisticRegression      5           0.924184\n",
              "6   6           LogisticRegression      6           0.950096\n",
              "7   7           LogisticRegression      7           0.946737\n",
              "8   8           LogisticRegression      8           0.952975\n",
              "9   9           LogisticRegression      9           0.946737\n",
              "10  10          LinearSVC               0           0.901726\n",
              "11  11          LinearSVC               1           0.812560\n",
              "12  12          LinearSVC               2           0.928983\n",
              "13  13          LinearSVC               3           0.922265\n",
              "14  14          LinearSVC               4           0.944338\n",
              "15  15          LinearSVC               5           0.905950\n",
              "16  16          LinearSVC               6           0.937620\n",
              "17  17          LinearSVC               7           0.926104\n",
              "18  18          LinearSVC               8           0.938100\n",
              "19  19          LinearSVC               9           0.927543\n",
              "20  20          DecisionTreeClassifier  0           0.677852\n",
              "21  21          DecisionTreeClassifier  1           0.709492\n",
              "22  22          DecisionTreeClassifier  2           0.958733\n",
              "23  23          DecisionTreeClassifier  3           0.949616\n",
              "24  24          DecisionTreeClassifier  4           0.949136\n",
              "25  25          DecisionTreeClassifier  5           0.926583\n",
              "26  26          DecisionTreeClassifier  6           0.940979\n",
              "27  27          DecisionTreeClassifier  7           0.936180\n",
              "28  28          DecisionTreeClassifier  8           0.944818\n",
              "29  29          DecisionTreeClassifier  9           0.940019\n",
              "30  30          KNeighborsClassifier    0           0.652924\n",
              "31  31          KNeighborsClassifier    1           0.689837\n",
              "32  32          KNeighborsClassifier    2           0.984165\n",
              "33  33          KNeighborsClassifier    3           0.975048\n",
              "34  34          KNeighborsClassifier    4           0.978407\n",
              "35  35          KNeighborsClassifier    5           0.961612\n",
              "36  36          KNeighborsClassifier    6           0.961132\n",
              "37  37          KNeighborsClassifier    7           0.968330\n",
              "38  38          KNeighborsClassifier    8           0.974568\n",
              "39  39          KNeighborsClassifier    9           0.962572\n",
              "40  40          DummyClassifier         0           0.492330\n",
              "41  41          DummyClassifier         1           0.524928\n",
              "42  42          DummyClassifier         2           0.507198\n",
              "43  43          DummyClassifier         3           0.494242\n",
              "44  44          DummyClassifier         4           0.507678\n",
              "45  45          DummyClassifier         5           0.503359\n",
              "46  46          DummyClassifier         6           0.507198\n",
              "47  47          DummyClassifier         7           0.509117\n",
              "48  48          DummyClassifier         8           0.498560\n",
              "49  49          DummyClassifier         9           0.508637\n",
              "50  50          GaussianNB              0           0.568073\n",
              "51  51          GaussianNB              1           0.610738\n",
              "52  52          GaussianNB              2           0.833013\n",
              "53  53          GaussianNB              3           0.829655\n",
              "54  54          GaussianNB              4           0.814779\n",
              "55  55          GaussianNB              5           0.759597\n",
              "56  56          GaussianNB              6           0.752879\n",
              "57  57          GaussianNB              7           0.764875\n",
              "58  58          GaussianNB              8           0.762476\n",
              "59  59          GaussianNB              9           0.766315"
            ]
          },
          "metadata": {
            "tags": []
          },
          "execution_count": 73
        }
      ]
    },
    {
      "cell_type": "code",
      "metadata": {
        "colab_type": "code",
        "id": "gbdcefpOHP8A",
        "colab": {}
      },
      "source": [
        "#Dropping first column\n",
        "df = df.iloc[ : , 1: ]"
      ],
      "execution_count": 0,
      "outputs": []
    },
    {
      "cell_type": "code",
      "metadata": {
        "id": "9aqnZbqNHRUV",
        "colab_type": "code",
        "outputId": "46acbb3a-9960-46fb-d7bb-71ccb1cb9af2",
        "colab": {
          "base_uri": "https://localhost:8080/",
          "height": 1000
        }
      },
      "source": [
        "df"
      ],
      "execution_count": 0,
      "outputs": [
        {
          "output_type": "execute_result",
          "data": {
            "text/html": [
              "<div>\n",
              "<style scoped>\n",
              "    .dataframe tbody tr th:only-of-type {\n",
              "        vertical-align: middle;\n",
              "    }\n",
              "\n",
              "    .dataframe tbody tr th {\n",
              "        vertical-align: top;\n",
              "    }\n",
              "\n",
              "    .dataframe thead th {\n",
              "        text-align: right;\n",
              "    }\n",
              "</style>\n",
              "<table border=\"1\" class=\"dataframe\">\n",
              "  <thead>\n",
              "    <tr style=\"text-align: right;\">\n",
              "      <th></th>\n",
              "      <th>Model_Name</th>\n",
              "      <th>Fold_Index</th>\n",
              "      <th>Accuracy</th>\n",
              "    </tr>\n",
              "  </thead>\n",
              "  <tbody>\n",
              "    <tr>\n",
              "      <th>0</th>\n",
              "      <td>LogisticRegression</td>\n",
              "      <td>0</td>\n",
              "      <td>0.902205</td>\n",
              "    </tr>\n",
              "    <tr>\n",
              "      <th>1</th>\n",
              "      <td>LogisticRegression</td>\n",
              "      <td>1</td>\n",
              "      <td>0.803452</td>\n",
              "    </tr>\n",
              "    <tr>\n",
              "      <th>2</th>\n",
              "      <td>LogisticRegression</td>\n",
              "      <td>2</td>\n",
              "      <td>0.958253</td>\n",
              "    </tr>\n",
              "    <tr>\n",
              "      <th>3</th>\n",
              "      <td>LogisticRegression</td>\n",
              "      <td>3</td>\n",
              "      <td>0.943378</td>\n",
              "    </tr>\n",
              "    <tr>\n",
              "      <th>4</th>\n",
              "      <td>LogisticRegression</td>\n",
              "      <td>4</td>\n",
              "      <td>0.946257</td>\n",
              "    </tr>\n",
              "    <tr>\n",
              "      <th>5</th>\n",
              "      <td>LogisticRegression</td>\n",
              "      <td>5</td>\n",
              "      <td>0.924184</td>\n",
              "    </tr>\n",
              "    <tr>\n",
              "      <th>6</th>\n",
              "      <td>LogisticRegression</td>\n",
              "      <td>6</td>\n",
              "      <td>0.950096</td>\n",
              "    </tr>\n",
              "    <tr>\n",
              "      <th>7</th>\n",
              "      <td>LogisticRegression</td>\n",
              "      <td>7</td>\n",
              "      <td>0.946737</td>\n",
              "    </tr>\n",
              "    <tr>\n",
              "      <th>8</th>\n",
              "      <td>LogisticRegression</td>\n",
              "      <td>8</td>\n",
              "      <td>0.952975</td>\n",
              "    </tr>\n",
              "    <tr>\n",
              "      <th>9</th>\n",
              "      <td>LogisticRegression</td>\n",
              "      <td>9</td>\n",
              "      <td>0.946737</td>\n",
              "    </tr>\n",
              "    <tr>\n",
              "      <th>10</th>\n",
              "      <td>LinearSVC</td>\n",
              "      <td>0</td>\n",
              "      <td>0.901726</td>\n",
              "    </tr>\n",
              "    <tr>\n",
              "      <th>11</th>\n",
              "      <td>LinearSVC</td>\n",
              "      <td>1</td>\n",
              "      <td>0.812560</td>\n",
              "    </tr>\n",
              "    <tr>\n",
              "      <th>12</th>\n",
              "      <td>LinearSVC</td>\n",
              "      <td>2</td>\n",
              "      <td>0.928983</td>\n",
              "    </tr>\n",
              "    <tr>\n",
              "      <th>13</th>\n",
              "      <td>LinearSVC</td>\n",
              "      <td>3</td>\n",
              "      <td>0.922265</td>\n",
              "    </tr>\n",
              "    <tr>\n",
              "      <th>14</th>\n",
              "      <td>LinearSVC</td>\n",
              "      <td>4</td>\n",
              "      <td>0.944338</td>\n",
              "    </tr>\n",
              "    <tr>\n",
              "      <th>15</th>\n",
              "      <td>LinearSVC</td>\n",
              "      <td>5</td>\n",
              "      <td>0.905950</td>\n",
              "    </tr>\n",
              "    <tr>\n",
              "      <th>16</th>\n",
              "      <td>LinearSVC</td>\n",
              "      <td>6</td>\n",
              "      <td>0.937620</td>\n",
              "    </tr>\n",
              "    <tr>\n",
              "      <th>17</th>\n",
              "      <td>LinearSVC</td>\n",
              "      <td>7</td>\n",
              "      <td>0.926104</td>\n",
              "    </tr>\n",
              "    <tr>\n",
              "      <th>18</th>\n",
              "      <td>LinearSVC</td>\n",
              "      <td>8</td>\n",
              "      <td>0.938100</td>\n",
              "    </tr>\n",
              "    <tr>\n",
              "      <th>19</th>\n",
              "      <td>LinearSVC</td>\n",
              "      <td>9</td>\n",
              "      <td>0.927543</td>\n",
              "    </tr>\n",
              "    <tr>\n",
              "      <th>20</th>\n",
              "      <td>DecisionTreeClassifier</td>\n",
              "      <td>0</td>\n",
              "      <td>0.677852</td>\n",
              "    </tr>\n",
              "    <tr>\n",
              "      <th>21</th>\n",
              "      <td>DecisionTreeClassifier</td>\n",
              "      <td>1</td>\n",
              "      <td>0.709492</td>\n",
              "    </tr>\n",
              "    <tr>\n",
              "      <th>22</th>\n",
              "      <td>DecisionTreeClassifier</td>\n",
              "      <td>2</td>\n",
              "      <td>0.958733</td>\n",
              "    </tr>\n",
              "    <tr>\n",
              "      <th>23</th>\n",
              "      <td>DecisionTreeClassifier</td>\n",
              "      <td>3</td>\n",
              "      <td>0.949616</td>\n",
              "    </tr>\n",
              "    <tr>\n",
              "      <th>24</th>\n",
              "      <td>DecisionTreeClassifier</td>\n",
              "      <td>4</td>\n",
              "      <td>0.949136</td>\n",
              "    </tr>\n",
              "    <tr>\n",
              "      <th>25</th>\n",
              "      <td>DecisionTreeClassifier</td>\n",
              "      <td>5</td>\n",
              "      <td>0.926583</td>\n",
              "    </tr>\n",
              "    <tr>\n",
              "      <th>26</th>\n",
              "      <td>DecisionTreeClassifier</td>\n",
              "      <td>6</td>\n",
              "      <td>0.940979</td>\n",
              "    </tr>\n",
              "    <tr>\n",
              "      <th>27</th>\n",
              "      <td>DecisionTreeClassifier</td>\n",
              "      <td>7</td>\n",
              "      <td>0.936180</td>\n",
              "    </tr>\n",
              "    <tr>\n",
              "      <th>28</th>\n",
              "      <td>DecisionTreeClassifier</td>\n",
              "      <td>8</td>\n",
              "      <td>0.944818</td>\n",
              "    </tr>\n",
              "    <tr>\n",
              "      <th>29</th>\n",
              "      <td>DecisionTreeClassifier</td>\n",
              "      <td>9</td>\n",
              "      <td>0.940019</td>\n",
              "    </tr>\n",
              "    <tr>\n",
              "      <th>30</th>\n",
              "      <td>KNeighborsClassifier</td>\n",
              "      <td>0</td>\n",
              "      <td>0.652924</td>\n",
              "    </tr>\n",
              "    <tr>\n",
              "      <th>31</th>\n",
              "      <td>KNeighborsClassifier</td>\n",
              "      <td>1</td>\n",
              "      <td>0.689837</td>\n",
              "    </tr>\n",
              "    <tr>\n",
              "      <th>32</th>\n",
              "      <td>KNeighborsClassifier</td>\n",
              "      <td>2</td>\n",
              "      <td>0.984165</td>\n",
              "    </tr>\n",
              "    <tr>\n",
              "      <th>33</th>\n",
              "      <td>KNeighborsClassifier</td>\n",
              "      <td>3</td>\n",
              "      <td>0.975048</td>\n",
              "    </tr>\n",
              "    <tr>\n",
              "      <th>34</th>\n",
              "      <td>KNeighborsClassifier</td>\n",
              "      <td>4</td>\n",
              "      <td>0.978407</td>\n",
              "    </tr>\n",
              "    <tr>\n",
              "      <th>35</th>\n",
              "      <td>KNeighborsClassifier</td>\n",
              "      <td>5</td>\n",
              "      <td>0.961612</td>\n",
              "    </tr>\n",
              "    <tr>\n",
              "      <th>36</th>\n",
              "      <td>KNeighborsClassifier</td>\n",
              "      <td>6</td>\n",
              "      <td>0.961132</td>\n",
              "    </tr>\n",
              "    <tr>\n",
              "      <th>37</th>\n",
              "      <td>KNeighborsClassifier</td>\n",
              "      <td>7</td>\n",
              "      <td>0.968330</td>\n",
              "    </tr>\n",
              "    <tr>\n",
              "      <th>38</th>\n",
              "      <td>KNeighborsClassifier</td>\n",
              "      <td>8</td>\n",
              "      <td>0.974568</td>\n",
              "    </tr>\n",
              "    <tr>\n",
              "      <th>39</th>\n",
              "      <td>KNeighborsClassifier</td>\n",
              "      <td>9</td>\n",
              "      <td>0.962572</td>\n",
              "    </tr>\n",
              "    <tr>\n",
              "      <th>40</th>\n",
              "      <td>DummyClassifier</td>\n",
              "      <td>0</td>\n",
              "      <td>0.492330</td>\n",
              "    </tr>\n",
              "    <tr>\n",
              "      <th>41</th>\n",
              "      <td>DummyClassifier</td>\n",
              "      <td>1</td>\n",
              "      <td>0.524928</td>\n",
              "    </tr>\n",
              "    <tr>\n",
              "      <th>42</th>\n",
              "      <td>DummyClassifier</td>\n",
              "      <td>2</td>\n",
              "      <td>0.507198</td>\n",
              "    </tr>\n",
              "    <tr>\n",
              "      <th>43</th>\n",
              "      <td>DummyClassifier</td>\n",
              "      <td>3</td>\n",
              "      <td>0.494242</td>\n",
              "    </tr>\n",
              "    <tr>\n",
              "      <th>44</th>\n",
              "      <td>DummyClassifier</td>\n",
              "      <td>4</td>\n",
              "      <td>0.507678</td>\n",
              "    </tr>\n",
              "    <tr>\n",
              "      <th>45</th>\n",
              "      <td>DummyClassifier</td>\n",
              "      <td>5</td>\n",
              "      <td>0.503359</td>\n",
              "    </tr>\n",
              "    <tr>\n",
              "      <th>46</th>\n",
              "      <td>DummyClassifier</td>\n",
              "      <td>6</td>\n",
              "      <td>0.507198</td>\n",
              "    </tr>\n",
              "    <tr>\n",
              "      <th>47</th>\n",
              "      <td>DummyClassifier</td>\n",
              "      <td>7</td>\n",
              "      <td>0.509117</td>\n",
              "    </tr>\n",
              "    <tr>\n",
              "      <th>48</th>\n",
              "      <td>DummyClassifier</td>\n",
              "      <td>8</td>\n",
              "      <td>0.498560</td>\n",
              "    </tr>\n",
              "    <tr>\n",
              "      <th>49</th>\n",
              "      <td>DummyClassifier</td>\n",
              "      <td>9</td>\n",
              "      <td>0.508637</td>\n",
              "    </tr>\n",
              "    <tr>\n",
              "      <th>50</th>\n",
              "      <td>GaussianNB</td>\n",
              "      <td>0</td>\n",
              "      <td>0.568073</td>\n",
              "    </tr>\n",
              "    <tr>\n",
              "      <th>51</th>\n",
              "      <td>GaussianNB</td>\n",
              "      <td>1</td>\n",
              "      <td>0.610738</td>\n",
              "    </tr>\n",
              "    <tr>\n",
              "      <th>52</th>\n",
              "      <td>GaussianNB</td>\n",
              "      <td>2</td>\n",
              "      <td>0.833013</td>\n",
              "    </tr>\n",
              "    <tr>\n",
              "      <th>53</th>\n",
              "      <td>GaussianNB</td>\n",
              "      <td>3</td>\n",
              "      <td>0.829655</td>\n",
              "    </tr>\n",
              "    <tr>\n",
              "      <th>54</th>\n",
              "      <td>GaussianNB</td>\n",
              "      <td>4</td>\n",
              "      <td>0.814779</td>\n",
              "    </tr>\n",
              "    <tr>\n",
              "      <th>55</th>\n",
              "      <td>GaussianNB</td>\n",
              "      <td>5</td>\n",
              "      <td>0.759597</td>\n",
              "    </tr>\n",
              "    <tr>\n",
              "      <th>56</th>\n",
              "      <td>GaussianNB</td>\n",
              "      <td>6</td>\n",
              "      <td>0.752879</td>\n",
              "    </tr>\n",
              "    <tr>\n",
              "      <th>57</th>\n",
              "      <td>GaussianNB</td>\n",
              "      <td>7</td>\n",
              "      <td>0.764875</td>\n",
              "    </tr>\n",
              "    <tr>\n",
              "      <th>58</th>\n",
              "      <td>GaussianNB</td>\n",
              "      <td>8</td>\n",
              "      <td>0.762476</td>\n",
              "    </tr>\n",
              "    <tr>\n",
              "      <th>59</th>\n",
              "      <td>GaussianNB</td>\n",
              "      <td>9</td>\n",
              "      <td>0.766315</td>\n",
              "    </tr>\n",
              "  </tbody>\n",
              "</table>\n",
              "</div>"
            ],
            "text/plain": [
              "                Model_Name  Fold_Index  Accuracy\n",
              "0   LogisticRegression      0           0.902205\n",
              "1   LogisticRegression      1           0.803452\n",
              "2   LogisticRegression      2           0.958253\n",
              "3   LogisticRegression      3           0.943378\n",
              "4   LogisticRegression      4           0.946257\n",
              "5   LogisticRegression      5           0.924184\n",
              "6   LogisticRegression      6           0.950096\n",
              "7   LogisticRegression      7           0.946737\n",
              "8   LogisticRegression      8           0.952975\n",
              "9   LogisticRegression      9           0.946737\n",
              "10  LinearSVC               0           0.901726\n",
              "11  LinearSVC               1           0.812560\n",
              "12  LinearSVC               2           0.928983\n",
              "13  LinearSVC               3           0.922265\n",
              "14  LinearSVC               4           0.944338\n",
              "15  LinearSVC               5           0.905950\n",
              "16  LinearSVC               6           0.937620\n",
              "17  LinearSVC               7           0.926104\n",
              "18  LinearSVC               8           0.938100\n",
              "19  LinearSVC               9           0.927543\n",
              "20  DecisionTreeClassifier  0           0.677852\n",
              "21  DecisionTreeClassifier  1           0.709492\n",
              "22  DecisionTreeClassifier  2           0.958733\n",
              "23  DecisionTreeClassifier  3           0.949616\n",
              "24  DecisionTreeClassifier  4           0.949136\n",
              "25  DecisionTreeClassifier  5           0.926583\n",
              "26  DecisionTreeClassifier  6           0.940979\n",
              "27  DecisionTreeClassifier  7           0.936180\n",
              "28  DecisionTreeClassifier  8           0.944818\n",
              "29  DecisionTreeClassifier  9           0.940019\n",
              "30  KNeighborsClassifier    0           0.652924\n",
              "31  KNeighborsClassifier    1           0.689837\n",
              "32  KNeighborsClassifier    2           0.984165\n",
              "33  KNeighborsClassifier    3           0.975048\n",
              "34  KNeighborsClassifier    4           0.978407\n",
              "35  KNeighborsClassifier    5           0.961612\n",
              "36  KNeighborsClassifier    6           0.961132\n",
              "37  KNeighborsClassifier    7           0.968330\n",
              "38  KNeighborsClassifier    8           0.974568\n",
              "39  KNeighborsClassifier    9           0.962572\n",
              "40  DummyClassifier         0           0.492330\n",
              "41  DummyClassifier         1           0.524928\n",
              "42  DummyClassifier         2           0.507198\n",
              "43  DummyClassifier         3           0.494242\n",
              "44  DummyClassifier         4           0.507678\n",
              "45  DummyClassifier         5           0.503359\n",
              "46  DummyClassifier         6           0.507198\n",
              "47  DummyClassifier         7           0.509117\n",
              "48  DummyClassifier         8           0.498560\n",
              "49  DummyClassifier         9           0.508637\n",
              "50  GaussianNB              0           0.568073\n",
              "51  GaussianNB              1           0.610738\n",
              "52  GaussianNB              2           0.833013\n",
              "53  GaussianNB              3           0.829655\n",
              "54  GaussianNB              4           0.814779\n",
              "55  GaussianNB              5           0.759597\n",
              "56  GaussianNB              6           0.752879\n",
              "57  GaussianNB              7           0.764875\n",
              "58  GaussianNB              8           0.762476\n",
              "59  GaussianNB              9           0.766315"
            ]
          },
          "metadata": {
            "tags": []
          },
          "execution_count": 75
        }
      ]
    },
    {
      "cell_type": "code",
      "metadata": {
        "id": "o9gtl8EjcSR5",
        "colab_type": "code",
        "colab": {}
      },
      "source": [
        "# Separating accuracies for each model\n",
        "model_lr  = df['Accuracy'][df.Model_Name== 'LogisticRegression'].values\n",
        "model_lsvc  = df['Accuracy'][df.Model_Name== 'LinearSVC'].values\n",
        "model_dt  = df['Accuracy'][df.Model_Name== 'DecisionTreeClassifier'].values\n",
        "model_knn  = df['Accuracy'][df.Model_Name== 'KNeighborsClassifier'].values\n",
        "model_dc  = df['Accuracy'][df.Model_Name== 'DummyClassifier'].values\n",
        "model_gnb  = df['Accuracy'][df.Model_Name== 'GaussianNB'].values"
      ],
      "execution_count": 0,
      "outputs": []
    },
    {
      "cell_type": "code",
      "metadata": {
        "id": "MxwdPgaociHp",
        "colab_type": "code",
        "outputId": "4972c121-d64b-4027-fafa-eff618d3aee2",
        "colab": {
          "base_uri": "https://localhost:8080/",
          "height": 51
        }
      },
      "source": [
        "model_lr"
      ],
      "execution_count": 0,
      "outputs": [
        {
          "output_type": "execute_result",
          "data": {
            "text/plain": [
              "array([0.90220518, 0.80345158, 0.95825336, 0.94337812, 0.9462572 ,\n",
              "       0.92418426, 0.95009597, 0.94673704, 0.95297505, 0.94673704])"
            ]
          },
          "metadata": {
            "tags": []
          },
          "execution_count": 77
        }
      ]
    },
    {
      "cell_type": "code",
      "metadata": {
        "id": "ZF8TIYMCHVIV",
        "colab_type": "code",
        "colab": {}
      },
      "source": [
        "# Differences of models' accuracies\n",
        "lr_lrsv = [a_i - b_i for a_i, b_i in zip(model_lr, model_lsvc)]\n",
        "lr_dt = [a_i - b_i for a_i, b_i in zip(model_lr, model_dt)]\n",
        "lr_knn = [a_i - b_i for a_i, b_i in zip(model_lr, model_knn)]\n",
        "lr_dc = [a_i - b_i for a_i, b_i in zip(model_lr, model_dc)]\n",
        "lr_gnb = [a_i - b_i for a_i, b_i in zip(model_lr, model_gnb)]\n",
        "lsvc_dt = [a_i - b_i for a_i, b_i in zip(model_lsvc, model_dt)]\n",
        "lsvc_knn = [a_i - b_i for a_i, b_i in zip(model_lsvc, model_knn)]\n",
        "lsvc_dc = [a_i - b_i for a_i, b_i in zip(model_lsvc, model_dc)]\n",
        "lsvc_gnb = [a_i - b_i for a_i, b_i in zip(model_lsvc, model_gnb)]\n",
        "dt_knn = [a_i - b_i for a_i, b_i in zip(model_dt, model_knn)]\n",
        "dt_dc = [a_i - b_i for a_i, b_i in zip(model_dt, model_dc)]\n",
        "dt_gnb = [a_i - b_i for a_i, b_i in zip(model_dt, model_gnb)]\n",
        "knn_dc = [a_i - b_i for a_i, b_i in zip(model_knn, model_dc)]\n",
        "knn_gnb = [a_i - b_i for a_i, b_i in zip(model_knn, model_gnb)]\n",
        "dc_gnb = [a_i - b_i for a_i, b_i in zip(model_dc, model_gnb)]\n",
        "\n",
        "\n"
      ],
      "execution_count": 0,
      "outputs": []
    },
    {
      "cell_type": "code",
      "metadata": {
        "id": "fwuTKORJcn1q",
        "colab_type": "code",
        "colab": {}
      },
      "source": [
        "#Creating DataFrame of models' differences\n",
        "df_mean_diff = pd.DataFrame(\n",
        "    {'lr_lrsv': lr_lrsv,\n",
        "     'lr_dt': lr_dt,\n",
        "     'lr_knn': lr_knn,\n",
        "     'lr_dc': lr_dc,\n",
        "     'lr_gnb': lr_gnb,\n",
        "     'lsvc_dt': lsvc_dt,\n",
        "     'lsvc_knn': lsvc_knn,\n",
        "     'lsvc_dc': lsvc_dc,\n",
        "     'lsvc_gnb': lsvc_gnb,\n",
        "     'dt_knn': dt_knn,\n",
        "     'dt_dc': dt_dc,\n",
        "     'dt_gnb': dt_gnb,\n",
        "     'knn_dc': knn_dc,\n",
        "      'knn_gnbt': knn_gnb,\n",
        "      'dc_gnb': dc_gnb\n",
        "    })"
      ],
      "execution_count": 0,
      "outputs": []
    },
    {
      "cell_type": "code",
      "metadata": {
        "id": "khUNetQatqIr",
        "colab_type": "code",
        "outputId": "dd59b966-6015-4ae9-a090-792f4730d243",
        "colab": {
          "base_uri": "https://localhost:8080/",
          "height": 359
        }
      },
      "source": [
        "df_mean_diff"
      ],
      "execution_count": 0,
      "outputs": [
        {
          "output_type": "execute_result",
          "data": {
            "text/html": [
              "<div>\n",
              "<style scoped>\n",
              "    .dataframe tbody tr th:only-of-type {\n",
              "        vertical-align: middle;\n",
              "    }\n",
              "\n",
              "    .dataframe tbody tr th {\n",
              "        vertical-align: top;\n",
              "    }\n",
              "\n",
              "    .dataframe thead th {\n",
              "        text-align: right;\n",
              "    }\n",
              "</style>\n",
              "<table border=\"1\" class=\"dataframe\">\n",
              "  <thead>\n",
              "    <tr style=\"text-align: right;\">\n",
              "      <th></th>\n",
              "      <th>lr_lrsv</th>\n",
              "      <th>lr_dt</th>\n",
              "      <th>lr_knn</th>\n",
              "      <th>lr_dc</th>\n",
              "      <th>lr_gnb</th>\n",
              "      <th>lsvc_dt</th>\n",
              "      <th>lsvc_knn</th>\n",
              "      <th>lsvc_dc</th>\n",
              "      <th>lsvc_gnb</th>\n",
              "      <th>dt_knn</th>\n",
              "      <th>dt_dc</th>\n",
              "      <th>dt_gnb</th>\n",
              "      <th>knn_dc</th>\n",
              "      <th>knn_gnbt</th>\n",
              "      <th>dc_gnb</th>\n",
              "    </tr>\n",
              "  </thead>\n",
              "  <tbody>\n",
              "    <tr>\n",
              "      <th>0</th>\n",
              "      <td>0.000479</td>\n",
              "      <td>0.224353</td>\n",
              "      <td>0.249281</td>\n",
              "      <td>0.409875</td>\n",
              "      <td>0.334132</td>\n",
              "      <td>0.223873</td>\n",
              "      <td>0.248802</td>\n",
              "      <td>0.409396</td>\n",
              "      <td>0.333653</td>\n",
              "      <td>0.024928</td>\n",
              "      <td>0.185523</td>\n",
              "      <td>0.109779</td>\n",
              "      <td>0.160594</td>\n",
              "      <td>0.084851</td>\n",
              "      <td>-0.075743</td>\n",
              "    </tr>\n",
              "    <tr>\n",
              "      <th>1</th>\n",
              "      <td>-0.009108</td>\n",
              "      <td>0.093960</td>\n",
              "      <td>0.113615</td>\n",
              "      <td>0.278523</td>\n",
              "      <td>0.192713</td>\n",
              "      <td>0.103068</td>\n",
              "      <td>0.122723</td>\n",
              "      <td>0.287632</td>\n",
              "      <td>0.201822</td>\n",
              "      <td>0.019655</td>\n",
              "      <td>0.184564</td>\n",
              "      <td>0.098754</td>\n",
              "      <td>0.164909</td>\n",
              "      <td>0.079099</td>\n",
              "      <td>-0.085810</td>\n",
              "    </tr>\n",
              "    <tr>\n",
              "      <th>2</th>\n",
              "      <td>0.029271</td>\n",
              "      <td>-0.000480</td>\n",
              "      <td>-0.025912</td>\n",
              "      <td>0.451056</td>\n",
              "      <td>0.125240</td>\n",
              "      <td>-0.029750</td>\n",
              "      <td>-0.055182</td>\n",
              "      <td>0.421785</td>\n",
              "      <td>0.095969</td>\n",
              "      <td>-0.025432</td>\n",
              "      <td>0.451536</td>\n",
              "      <td>0.125720</td>\n",
              "      <td>0.476967</td>\n",
              "      <td>0.151152</td>\n",
              "      <td>-0.325816</td>\n",
              "    </tr>\n",
              "    <tr>\n",
              "      <th>3</th>\n",
              "      <td>0.021113</td>\n",
              "      <td>-0.006238</td>\n",
              "      <td>-0.031670</td>\n",
              "      <td>0.449136</td>\n",
              "      <td>0.113724</td>\n",
              "      <td>-0.027351</td>\n",
              "      <td>-0.052783</td>\n",
              "      <td>0.428023</td>\n",
              "      <td>0.092610</td>\n",
              "      <td>-0.025432</td>\n",
              "      <td>0.455374</td>\n",
              "      <td>0.119962</td>\n",
              "      <td>0.480806</td>\n",
              "      <td>0.145393</td>\n",
              "      <td>-0.335413</td>\n",
              "    </tr>\n",
              "    <tr>\n",
              "      <th>4</th>\n",
              "      <td>0.001919</td>\n",
              "      <td>-0.002879</td>\n",
              "      <td>-0.032150</td>\n",
              "      <td>0.438580</td>\n",
              "      <td>0.131478</td>\n",
              "      <td>-0.004798</td>\n",
              "      <td>-0.034069</td>\n",
              "      <td>0.436660</td>\n",
              "      <td>0.129559</td>\n",
              "      <td>-0.029271</td>\n",
              "      <td>0.441459</td>\n",
              "      <td>0.134357</td>\n",
              "      <td>0.470729</td>\n",
              "      <td>0.163628</td>\n",
              "      <td>-0.307102</td>\n",
              "    </tr>\n",
              "    <tr>\n",
              "      <th>5</th>\n",
              "      <td>0.018234</td>\n",
              "      <td>-0.002399</td>\n",
              "      <td>-0.037428</td>\n",
              "      <td>0.420825</td>\n",
              "      <td>0.164587</td>\n",
              "      <td>-0.020633</td>\n",
              "      <td>-0.055662</td>\n",
              "      <td>0.402591</td>\n",
              "      <td>0.146353</td>\n",
              "      <td>-0.035029</td>\n",
              "      <td>0.423225</td>\n",
              "      <td>0.166987</td>\n",
              "      <td>0.458253</td>\n",
              "      <td>0.202015</td>\n",
              "      <td>-0.256238</td>\n",
              "    </tr>\n",
              "    <tr>\n",
              "      <th>6</th>\n",
              "      <td>0.012476</td>\n",
              "      <td>0.009117</td>\n",
              "      <td>-0.011036</td>\n",
              "      <td>0.442898</td>\n",
              "      <td>0.197217</td>\n",
              "      <td>-0.003359</td>\n",
              "      <td>-0.023512</td>\n",
              "      <td>0.430422</td>\n",
              "      <td>0.184741</td>\n",
              "      <td>-0.020154</td>\n",
              "      <td>0.433781</td>\n",
              "      <td>0.188100</td>\n",
              "      <td>0.453935</td>\n",
              "      <td>0.208253</td>\n",
              "      <td>-0.245681</td>\n",
              "    </tr>\n",
              "    <tr>\n",
              "      <th>7</th>\n",
              "      <td>0.020633</td>\n",
              "      <td>0.010557</td>\n",
              "      <td>-0.021593</td>\n",
              "      <td>0.437620</td>\n",
              "      <td>0.181862</td>\n",
              "      <td>-0.010077</td>\n",
              "      <td>-0.042226</td>\n",
              "      <td>0.416987</td>\n",
              "      <td>0.161228</td>\n",
              "      <td>-0.032150</td>\n",
              "      <td>0.427063</td>\n",
              "      <td>0.171305</td>\n",
              "      <td>0.459213</td>\n",
              "      <td>0.203455</td>\n",
              "      <td>-0.255758</td>\n",
              "    </tr>\n",
              "    <tr>\n",
              "      <th>8</th>\n",
              "      <td>0.014875</td>\n",
              "      <td>0.008157</td>\n",
              "      <td>-0.021593</td>\n",
              "      <td>0.454415</td>\n",
              "      <td>0.190499</td>\n",
              "      <td>-0.006718</td>\n",
              "      <td>-0.036468</td>\n",
              "      <td>0.439539</td>\n",
              "      <td>0.175624</td>\n",
              "      <td>-0.029750</td>\n",
              "      <td>0.446257</td>\n",
              "      <td>0.182342</td>\n",
              "      <td>0.476008</td>\n",
              "      <td>0.212092</td>\n",
              "      <td>-0.263916</td>\n",
              "    </tr>\n",
              "    <tr>\n",
              "      <th>9</th>\n",
              "      <td>0.019194</td>\n",
              "      <td>0.006718</td>\n",
              "      <td>-0.015835</td>\n",
              "      <td>0.438100</td>\n",
              "      <td>0.180422</td>\n",
              "      <td>-0.012476</td>\n",
              "      <td>-0.035029</td>\n",
              "      <td>0.418906</td>\n",
              "      <td>0.161228</td>\n",
              "      <td>-0.022553</td>\n",
              "      <td>0.431382</td>\n",
              "      <td>0.173704</td>\n",
              "      <td>0.453935</td>\n",
              "      <td>0.196257</td>\n",
              "      <td>-0.257678</td>\n",
              "    </tr>\n",
              "  </tbody>\n",
              "</table>\n",
              "</div>"
            ],
            "text/plain": [
              "    lr_lrsv     lr_dt    lr_knn     lr_dc    lr_gnb   lsvc_dt  lsvc_knn  \\\n",
              "0  0.000479  0.224353  0.249281  0.409875  0.334132  0.223873  0.248802   \n",
              "1 -0.009108  0.093960  0.113615  0.278523  0.192713  0.103068  0.122723   \n",
              "2  0.029271 -0.000480 -0.025912  0.451056  0.125240 -0.029750 -0.055182   \n",
              "3  0.021113 -0.006238 -0.031670  0.449136  0.113724 -0.027351 -0.052783   \n",
              "4  0.001919 -0.002879 -0.032150  0.438580  0.131478 -0.004798 -0.034069   \n",
              "5  0.018234 -0.002399 -0.037428  0.420825  0.164587 -0.020633 -0.055662   \n",
              "6  0.012476  0.009117 -0.011036  0.442898  0.197217 -0.003359 -0.023512   \n",
              "7  0.020633  0.010557 -0.021593  0.437620  0.181862 -0.010077 -0.042226   \n",
              "8  0.014875  0.008157 -0.021593  0.454415  0.190499 -0.006718 -0.036468   \n",
              "9  0.019194  0.006718 -0.015835  0.438100  0.180422 -0.012476 -0.035029   \n",
              "\n",
              "    lsvc_dc  lsvc_gnb    dt_knn     dt_dc    dt_gnb    knn_dc  knn_gnbt  \\\n",
              "0  0.409396  0.333653  0.024928  0.185523  0.109779  0.160594  0.084851   \n",
              "1  0.287632  0.201822  0.019655  0.184564  0.098754  0.164909  0.079099   \n",
              "2  0.421785  0.095969 -0.025432  0.451536  0.125720  0.476967  0.151152   \n",
              "3  0.428023  0.092610 -0.025432  0.455374  0.119962  0.480806  0.145393   \n",
              "4  0.436660  0.129559 -0.029271  0.441459  0.134357  0.470729  0.163628   \n",
              "5  0.402591  0.146353 -0.035029  0.423225  0.166987  0.458253  0.202015   \n",
              "6  0.430422  0.184741 -0.020154  0.433781  0.188100  0.453935  0.208253   \n",
              "7  0.416987  0.161228 -0.032150  0.427063  0.171305  0.459213  0.203455   \n",
              "8  0.439539  0.175624 -0.029750  0.446257  0.182342  0.476008  0.212092   \n",
              "9  0.418906  0.161228 -0.022553  0.431382  0.173704  0.453935  0.196257   \n",
              "\n",
              "     dc_gnb  \n",
              "0 -0.075743  \n",
              "1 -0.085810  \n",
              "2 -0.325816  \n",
              "3 -0.335413  \n",
              "4 -0.307102  \n",
              "5 -0.256238  \n",
              "6 -0.245681  \n",
              "7 -0.255758  \n",
              "8 -0.263916  \n",
              "9 -0.257678  "
            ]
          },
          "metadata": {
            "tags": []
          },
          "execution_count": 80
        }
      ]
    },
    {
      "cell_type": "code",
      "metadata": {
        "id": "yoom0-NiwBgd",
        "colab_type": "code",
        "outputId": "af592696-682e-41c1-af9d-3f7802b094b0",
        "colab": {
          "base_uri": "https://localhost:8080/",
          "height": 340
        }
      },
      "source": [
        "print('**Mean of differences**')\n",
        "print('\\n')\n",
        "df_mean_diff.mean(axis=0) "
      ],
      "execution_count": 0,
      "outputs": [
        {
          "output_type": "stream",
          "text": [
            "**Mean of differences**\n",
            "\n",
            "\n"
          ],
          "name": "stdout"
        },
        {
          "output_type": "execute_result",
          "data": {
            "text/plain": [
              "lr_lrsv     0.012909\n",
              "lr_dt       0.034087\n",
              "lr_knn      0.016568\n",
              "lr_dc       0.422103\n",
              "lr_gnb      0.181187\n",
              "lsvc_dt     0.021178\n",
              "lsvc_knn    0.003659\n",
              "lsvc_dc     0.409194\n",
              "lsvc_gnb    0.168279\n",
              "dt_knn     -0.017519\n",
              "dt_dc       0.388016\n",
              "dt_gnb      0.147101\n",
              "knn_dc      0.405535\n",
              "knn_gnbt    0.164620\n",
              "dc_gnb     -0.240915\n",
              "dtype: float64"
            ]
          },
          "metadata": {
            "tags": []
          },
          "execution_count": 81
        }
      ]
    },
    {
      "cell_type": "code",
      "metadata": {
        "id": "F7gvKZwHx40i",
        "colab_type": "code",
        "outputId": "6592bc2f-35e5-4eef-c1c0-f75a6497793c",
        "colab": {
          "base_uri": "https://localhost:8080/",
          "height": 340
        }
      },
      "source": [
        "print('**Standard Deviation of differences**')\n",
        "print('\\n')\n",
        "df_mean_diff.std(axis=0) "
      ],
      "execution_count": 0,
      "outputs": [
        {
          "output_type": "stream",
          "text": [
            "**Standard Deviation of differences**\n",
            "\n",
            "\n"
          ],
          "name": "stdout"
        },
        {
          "output_type": "execute_result",
          "data": {
            "text/plain": [
              "lr_lrsv     0.011674\n",
              "lr_dt       0.072956\n",
              "lr_knn      0.092927\n",
              "lr_dc       0.052260\n",
              "lr_gnb      0.061732\n",
              "lsvc_dt     0.080728\n",
              "lsvc_knn    0.101002\n",
              "lsvc_dc     0.044240\n",
              "lsvc_gnb    0.068177\n",
              "dt_knn      0.021472\n",
              "dt_dc       0.107474\n",
              "dt_gnb      0.032827\n",
              "knn_dc      0.128334\n",
              "knn_gnbt    0.049770\n",
              "dc_gnb      0.090152\n",
              "dtype: float64"
            ]
          },
          "metadata": {
            "tags": []
          },
          "execution_count": 82
        }
      ]
    },
    {
      "cell_type": "markdown",
      "metadata": {
        "id": "djxspPgBR4Zc",
        "colab_type": "text"
      },
      "source": [
        "# OOPs! We have Scipy Library 'stats', which could help us find P-Values and T-Values for Model differences, so lets use that rather than finding them manually."
      ]
    },
    {
      "cell_type": "code",
      "metadata": {
        "id": "SWv9OhwUHWIV",
        "colab_type": "code",
        "colab": {}
      },
      "source": [
        "# Finding p-value and t-value using scipy stat library\n",
        "# Chosing alpha value : 0.005\n",
        "alpha=0.005\n",
        "\n",
        "#Creating Function to check Significant Statistical Difference\n",
        "def p_test(model1, model2, alpha):\n",
        "    t, p = ttest_ind(model1, model2)\n",
        "    print(\"T-Value = \" + str(round(t,4)) + \"  P-Value = \" + str(round(p,4)))\n",
        "    if p > alpha:\n",
        "        print('No Significant Statistical Difference (fail to reject H0)')\n",
        "    else:\n",
        "        print('Significant Statistical Difference (reject H0)')\n",
        "\n",
        "# if p > alpha, then there's no significance difference between two models\n",
        "# if p < alpha, then there is  significance difference between two models"
      ],
      "execution_count": 0,
      "outputs": []
    },
    {
      "cell_type": "markdown",
      "metadata": {
        "id": "9bOQqH_fnxty",
        "colab_type": "text"
      },
      "source": [
        "# Checking for significant statistical difference between **LogisticRegression** and other algorithms"
      ]
    },
    {
      "cell_type": "code",
      "metadata": {
        "id": "-9UtKmV3HW4s",
        "colab_type": "code",
        "outputId": "127a2db3-7173-415c-e255-7f30b0c16f20",
        "colab": {
          "base_uri": "https://localhost:8080/",
          "height": 102
        }
      },
      "source": [
        "print('LogisticRegression - LinearSVC')\n",
        "print(\"\\n\")\n",
        "p_test(model_lr, model_lsvc, alpha)"
      ],
      "execution_count": 0,
      "outputs": [
        {
          "output_type": "stream",
          "text": [
            "LogisticRegression - LinearSVC\n",
            "\n",
            "\n",
            "T-Value = 0.6775  P-Value = 0.5067\n",
            "No Significant Statistical Difference (fail to reject H0)\n"
          ],
          "name": "stdout"
        }
      ]
    },
    {
      "cell_type": "code",
      "metadata": {
        "id": "BEuitssBbA3Z",
        "colab_type": "code",
        "outputId": "1a977ec0-8a44-468e-f5b8-8c7c8a652280",
        "colab": {
          "base_uri": "https://localhost:8080/",
          "height": 102
        }
      },
      "source": [
        "print('LogisticRegression - DecisionTreeClassifier')\n",
        "print(\"\\n\")\n",
        "p_test(model_lr, model_dt, alpha)"
      ],
      "execution_count": 0,
      "outputs": [
        {
          "output_type": "stream",
          "text": [
            "LogisticRegression - DecisionTreeClassifier\n",
            "\n",
            "\n",
            "T-Value = 0.9323  P-Value = 0.3635\n",
            "No Significant Statistical Difference (fail to reject H0)\n"
          ],
          "name": "stdout"
        }
      ]
    },
    {
      "cell_type": "code",
      "metadata": {
        "id": "LET6tPWSb9r_",
        "colab_type": "code",
        "outputId": "66edfbbd-a823-4222-9487-85cf64f28591",
        "colab": {
          "base_uri": "https://localhost:8080/",
          "height": 102
        }
      },
      "source": [
        "print('LogisticRegression - KNeighborsClassifier')\n",
        "print(\"\\n\")\n",
        "p_test(model_lr, model_knn, alpha)"
      ],
      "execution_count": 0,
      "outputs": [
        {
          "output_type": "stream",
          "text": [
            "LogisticRegression - KNeighborsClassifier\n",
            "\n",
            "\n",
            "T-Value = 0.388  P-Value = 0.7025\n",
            "No Significant Statistical Difference (fail to reject H0)\n"
          ],
          "name": "stdout"
        }
      ]
    },
    {
      "cell_type": "code",
      "metadata": {
        "id": "h7FhZMBugFh4",
        "colab_type": "code",
        "outputId": "6dc1d7e0-fb4b-47fa-af3f-177e6727948a",
        "colab": {
          "base_uri": "https://localhost:8080/",
          "height": 102
        }
      },
      "source": [
        "print('LogisticRegression - DummyClassifier')\n",
        "print(\"\\n\")\n",
        "p_test(model_lr, model_dc, alpha)"
      ],
      "execution_count": 0,
      "outputs": [
        {
          "output_type": "stream",
          "text": [
            "LogisticRegression - DummyClassifier\n",
            "\n",
            "\n",
            "T-Value = 28.139  P-Value = 0.0\n",
            "Significant Statistical Difference (reject H0)\n"
          ],
          "name": "stdout"
        }
      ]
    },
    {
      "cell_type": "code",
      "metadata": {
        "id": "4NLIiLkcgW4i",
        "colab_type": "code",
        "outputId": "82ab2817-9512-4214-8363-8a41a72ebd26",
        "colab": {
          "base_uri": "https://localhost:8080/",
          "height": 102
        }
      },
      "source": [
        "print('LogisticRegression - GaussianNB')\n",
        "print(\"\\n\")\n",
        "p_test(model_lr, model_gnb, alpha)"
      ],
      "execution_count": 0,
      "outputs": [
        {
          "output_type": "stream",
          "text": [
            "LogisticRegression - GaussianNB\n",
            "\n",
            "\n",
            "T-Value = 5.7292  P-Value = 0.0\n",
            "Significant Statistical Difference (reject H0)\n"
          ],
          "name": "stdout"
        }
      ]
    },
    {
      "cell_type": "markdown",
      "metadata": {
        "id": "t_9yaU0mnTB6",
        "colab_type": "text"
      },
      "source": [
        "### **Results:** LogisticRegression has significant statistical difference with DummyClassifier and GaussianNB"
      ]
    },
    {
      "cell_type": "markdown",
      "metadata": {
        "id": "MyO-ed3eoSnD",
        "colab_type": "text"
      },
      "source": [
        "# Checking for significant statistical difference between **LinearSVC** and other algorithms"
      ]
    },
    {
      "cell_type": "code",
      "metadata": {
        "id": "zGnVVzbUgXSS",
        "colab_type": "code",
        "outputId": "983afade-d001-439f-c35d-21f2f0709452",
        "colab": {
          "base_uri": "https://localhost:8080/",
          "height": 102
        }
      },
      "source": [
        "print('LinearSVC - DecisionTreeClassifier')\n",
        "print(\"\\n\")\n",
        "p_test(model_lsvc, model_dt, alpha)"
      ],
      "execution_count": 0,
      "outputs": [
        {
          "output_type": "stream",
          "text": [
            "LinearSVC - DecisionTreeClassifier\n",
            "\n",
            "\n",
            "T-Value = 0.595  P-Value = 0.5592\n",
            "No Significant Statistical Difference (fail to reject H0)\n"
          ],
          "name": "stdout"
        }
      ]
    },
    {
      "cell_type": "code",
      "metadata": {
        "id": "BkvOND0Zg8kh",
        "colab_type": "code",
        "outputId": "8684a207-3f67-424f-ca60-db165d6a8075",
        "colab": {
          "base_uri": "https://localhost:8080/",
          "height": 102
        }
      },
      "source": [
        "print('LinearSVC - KNeighborsClassifier')\n",
        "print(\"\\n\")\n",
        "p_test(model_lsvc, model_knn, alpha)"
      ],
      "execution_count": 0,
      "outputs": [
        {
          "output_type": "stream",
          "text": [
            "LinearSVC - KNeighborsClassifier\n",
            "\n",
            "\n",
            "T-Value = 0.0874  P-Value = 0.9313\n",
            "No Significant Statistical Difference (fail to reject H0)\n"
          ],
          "name": "stdout"
        }
      ]
    },
    {
      "cell_type": "code",
      "metadata": {
        "id": "42QZOc9cg9Ff",
        "colab_type": "code",
        "outputId": "f2f92813-42a2-4fb5-c159-b0646951631b",
        "colab": {
          "base_uri": "https://localhost:8080/",
          "height": 102
        }
      },
      "source": [
        "print('LinearSVC - DummyClassifier')\n",
        "print(\"\\n\")\n",
        "p_test(model_lsvc, model_dc, alpha) "
      ],
      "execution_count": 0,
      "outputs": [
        {
          "output_type": "stream",
          "text": [
            "LinearSVC - DummyClassifier\n",
            "\n",
            "\n",
            "T-Value = 32.8694  P-Value = 0.0\n",
            "Significant Statistical Difference (reject H0)\n"
          ],
          "name": "stdout"
        }
      ]
    },
    {
      "cell_type": "code",
      "metadata": {
        "id": "e7lgsvYam1-h",
        "colab_type": "code",
        "outputId": "3d17d2c6-2098-4637-801e-355d8e4d7c99",
        "colab": {
          "base_uri": "https://localhost:8080/",
          "height": 102
        }
      },
      "source": [
        "print('LinearSVC - GaussianNB')\n",
        "print(\"\\n\")\n",
        "p_test(model_lsvc, model_gnb, alpha) "
      ],
      "execution_count": 0,
      "outputs": [
        {
          "output_type": "stream",
          "text": [
            "LinearSVC - GaussianNB\n",
            "\n",
            "\n",
            "T-Value = 5.5177  P-Value = 0.0\n",
            "Significant Statistical Difference (reject H0)\n"
          ],
          "name": "stdout"
        }
      ]
    },
    {
      "cell_type": "markdown",
      "metadata": {
        "id": "O68v9ywIpbTw",
        "colab_type": "text"
      },
      "source": [
        "### **Results:** LinearSVC has significant statistical difference with DummyClassifier and GaussianNB"
      ]
    },
    {
      "cell_type": "markdown",
      "metadata": {
        "id": "WNU2jDF6plj7",
        "colab_type": "text"
      },
      "source": [
        "# Checking for significant statistical difference between **DecisionTreeClassifier** and other algorithms"
      ]
    },
    {
      "cell_type": "code",
      "metadata": {
        "id": "zgLXLSAZm2cB",
        "colab_type": "code",
        "outputId": "53676690-f2ac-4a71-f473-27a413b100c3",
        "colab": {
          "base_uri": "https://localhost:8080/",
          "height": 102
        }
      },
      "source": [
        "print('DecisionTreeClassifier - KNeighborsClassifier')\n",
        "print(\"\\n\")\n",
        "p_test(model_dt, model_knn, alpha)"
      ],
      "execution_count": 0,
      "outputs": [
        {
          "output_type": "stream",
          "text": [
            "DecisionTreeClassifier - KNeighborsClassifier\n",
            "\n",
            "\n",
            "T-Value = -0.3355  P-Value = 0.7411\n",
            "No Significant Statistical Difference (fail to reject H0)\n"
          ],
          "name": "stdout"
        }
      ]
    },
    {
      "cell_type": "code",
      "metadata": {
        "id": "fphcscRPqBPL",
        "colab_type": "code",
        "outputId": "19c6973c-0d6e-411c-dcf8-72c2ddddcccb",
        "colab": {
          "base_uri": "https://localhost:8080/",
          "height": 102
        }
      },
      "source": [
        "print('DecisionTreeClassifier - GaussianNB')\n",
        "print(\"\\n\")\n",
        "p_test(model_dt, model_gnb, alpha)"
      ],
      "execution_count": 0,
      "outputs": [
        {
          "output_type": "stream",
          "text": [
            "DecisionTreeClassifier - GaussianNB\n",
            "\n",
            "\n",
            "T-Value = 3.3712  P-Value = 0.0034\n",
            "Significant Statistical Difference (reject H0)\n"
          ],
          "name": "stdout"
        }
      ]
    },
    {
      "cell_type": "code",
      "metadata": {
        "id": "z9hwl_h-qBmj",
        "colab_type": "code",
        "outputId": "63a90daf-2173-4a84-8a07-8757a0351f0b",
        "colab": {
          "base_uri": "https://localhost:8080/",
          "height": 102
        }
      },
      "source": [
        "print('DecisionTreeClassifier - DummyClassifier')\n",
        "print(\"\\n\")\n",
        "p_test(model_dt, model_dc, alpha)"
      ],
      "execution_count": 0,
      "outputs": [
        {
          "output_type": "stream",
          "text": [
            "DecisionTreeClassifier - DummyClassifier\n",
            "\n",
            "\n",
            "T-Value = 11.5488  P-Value = 0.0\n",
            "Significant Statistical Difference (reject H0)\n"
          ],
          "name": "stdout"
        }
      ]
    },
    {
      "cell_type": "markdown",
      "metadata": {
        "id": "tG9nLVpDre9T",
        "colab_type": "text"
      },
      "source": [
        "### **Results:** DecisionTreeClassifier has significant statistical difference with DummyClassifier and GaussianNB"
      ]
    },
    {
      "cell_type": "markdown",
      "metadata": {
        "id": "uyyOTcg0rfXb",
        "colab_type": "text"
      },
      "source": [
        "# Checking for significant statistical difference between **KNeighborsClassifier** and other algorithms"
      ]
    },
    {
      "cell_type": "code",
      "metadata": {
        "id": "kNu8X7OBqB66",
        "colab_type": "code",
        "outputId": "3792a5c7-6ad7-4b70-d695-11bb647b7d2d",
        "colab": {
          "base_uri": "https://localhost:8080/",
          "height": 102
        }
      },
      "source": [
        "print('KNeighborsClassifier - GaussianNB')\n",
        "print(\"\\n\")\n",
        "p_test(model_knn, model_gnb, alpha)"
      ],
      "execution_count": 0,
      "outputs": [
        {
          "output_type": "stream",
          "text": [
            "KNeighborsClassifier - GaussianNB\n",
            "\n",
            "\n",
            "T-Value = 3.3673  P-Value = 0.0034\n",
            "Significant Statistical Difference (reject H0)\n"
          ],
          "name": "stdout"
        }
      ]
    },
    {
      "cell_type": "code",
      "metadata": {
        "id": "7hxfJ1hum2vy",
        "colab_type": "code",
        "outputId": "ce93d8df-e2f5-4671-c109-339b3d67be9d",
        "colab": {
          "base_uri": "https://localhost:8080/",
          "height": 102
        }
      },
      "source": [
        "print('KNeighborsClassifier - DummyClassifier')\n",
        "print(\"\\n\")\n",
        "p_test(model_knn, model_dc, alpha)"
      ],
      "execution_count": 0,
      "outputs": [
        {
          "output_type": "stream",
          "text": [
            "KNeighborsClassifier - DummyClassifier\n",
            "\n",
            "\n",
            "T-Value = 10.0915  P-Value = 0.0\n",
            "Significant Statistical Difference (reject H0)\n"
          ],
          "name": "stdout"
        }
      ]
    },
    {
      "cell_type": "markdown",
      "metadata": {
        "id": "pP5ARdfFsY8r",
        "colab_type": "text"
      },
      "source": [
        "### **Results:** KNeighborsClassifier has significant statistical difference with DummyClassifier and GaussianNB"
      ]
    },
    {
      "cell_type": "markdown",
      "metadata": {
        "id": "4ZdD-yp5sZaD",
        "colab_type": "text"
      },
      "source": [
        "# Checking for significant statistical difference between **GaussianNB** and other algorithms"
      ]
    },
    {
      "cell_type": "code",
      "metadata": {
        "id": "o__TbM5jslvr",
        "colab_type": "code",
        "outputId": "9a3ee5cf-28f3-4e45-e164-0a759fd453f6",
        "colab": {
          "base_uri": "https://localhost:8080/",
          "height": 102
        }
      },
      "source": [
        "print('GaussianNB - DummyClassifier')\n",
        "print(\"\\n\")\n",
        "p_test(model_gnb, model_dc, alpha)"
      ],
      "execution_count": 0,
      "outputs": [
        {
          "output_type": "stream",
          "text": [
            "GaussianNB - DummyClassifier\n",
            "\n",
            "\n",
            "T-Value = 8.56  P-Value = 0.0\n",
            "Significant Statistical Difference (reject H0)\n"
          ],
          "name": "stdout"
        }
      ]
    },
    {
      "cell_type": "markdown",
      "metadata": {
        "id": "9XKUFNxusmKL",
        "colab_type": "text"
      },
      "source": [
        "### **Results:** GaussianNB has significant statistical difference with DummyClassifier "
      ]
    },
    {
      "cell_type": "markdown",
      "metadata": {
        "id": "8TNL84j42Has",
        "colab_type": "text"
      },
      "source": [
        "***************************************************************************************************************************************************************************************************************************************************************************************************************************************************************************************************************************************************************************************************************************************************************************************************************************************************************************************************************************************************************************************************************"
      ]
    },
    {
      "cell_type": "markdown",
      "metadata": {
        "id": "yLrgu8GHsmzT",
        "colab_type": "text"
      },
      "source": [
        "# References"
      ]
    },
    {
      "cell_type": "markdown",
      "metadata": {
        "id": "ppapArj30HK0",
        "colab_type": "text"
      },
      "source": [
        "https://stackoverflow.com/questions/534855/subtracting-2-lists-in-python\n",
        "\n",
        "https://docs.scipy.org/doc/scipy/reference/generated/scipy.stats.ttest_ind.html\n",
        "\n",
        "https://github.com/bhattbhavesh91/GA_Sessions/blob/master/t_test_independence/T_Test_Sales.ipynb\n",
        "\n",
        "https://medium.com/100-days-of-ml-and-code/machine-learning-model-evaluation-statistical-testing-paired-t-test-in-python-4f8cb6c92c51\n",
        "\n",
        "https://www.youtube.com/watch?v=dPXBN8ms-cU\n",
        "\n",
        "https://machinelearningmastery.com/statistical-hypothesis-tests-in-python-cheat-sheet/\n",
        "\n",
        "https://towardsdatascience.com/3-ways-to-load-csv-files-into-colab-7c14fcbdcb92\n",
        "\n"
      ]
    }
  ]
}